{
 "cells": [
  {
   "cell_type": "markdown",
   "metadata": {},
   "source": [
    "## Day 5"
   ]
  },
  {
   "cell_type": "code",
   "execution_count": 32,
   "metadata": {},
   "outputs": [],
   "source": [
    "from typing import Optional, List\n",
    "import re"
   ]
  },
  {
   "cell_type": "code",
   "execution_count": 83,
   "metadata": {},
   "outputs": [],
   "source": [
    "class Rule:\n",
    "    def __init__(self, rule_str: str):\n",
    "        self.rule_str = rule_str\n",
    "        self.X = int(rule_str.split(\"|\")[0])\n",
    "        self.Y = int(rule_str.split(\"|\")[1])\n",
    "\n",
    "    def __repr__(self):\n",
    "        return f\"Rule({self.rule_str})\"\n",
    "    \n",
    "    def __str__(self):\n",
    "        return f\"{self.X}|{self.Y}\"\n",
    "\n",
    "    def eval(self, page_order: 'PageOrder') -> bool:\n",
    "        if page_order.pages.index(self.X) < page_order.pages.index(self.Y):\n",
    "            return True\n",
    "        else:\n",
    "            return False\n",
    "\n",
    "\n",
    "class RuleSet:\n",
    "    def __init__(self, rules: Optional[List[Rule]] = None):\n",
    "        self.rules = rules if rules is not None else []\n",
    "\n",
    "    def add_rule(self, rule: Rule):\n",
    "        self.rules.append(rule)\n",
    "\n",
    "    def load_from_file(self, filename: str):\n",
    "        with open(filename, 'r') as file:\n",
    "            for line in file:\n",
    "                if line == \"\\n\":\n",
    "                    break\n",
    "                else:\n",
    "                    rule_str = line.strip()\n",
    "                    if rule_str:\n",
    "                        self.add_rule(Rule(rule_str))\n",
    "            return print(f\"RuleSet loaded file '{filename}' successfully. \\n {len(self.rules)} rules added.\\n\")\n",
    "    \n",
    "\n",
    "    def eval(self, page_order: PageOrder) -> bool:\n",
    "        self.relevant_rules = []\n",
    "        for rule in self.rules:\n",
    "            if rule.X in page_order.pages and rule.Y in page_order.pages:\n",
    "                self.relevant_rules.append(rule)\n",
    "        #print(self.relevant_rules)\n",
    "        results = []\n",
    "        for rule in self.relevant_rules:\n",
    "            results.append(rule.eval(page_order))\n",
    "        if all(results):\n",
    "            return True\n",
    "        else:\n",
    "            return False\n",
    "\n",
    "\n",
    "class PageOrder:\n",
    "    def __init__(self, order_str: str):\n",
    "        self.order_str = order_str\n",
    "        self.pages = [int(x) for x in order_str.split(\",\")]\n",
    "    \n",
    "    def __repr__(self):\n",
    "        return f\"PageOrder({self.order_str})\"\n",
    "    \n",
    "    def __len__(self):\n",
    "        return len(self.pages)\n",
    "    \n",
    "    @property\n",
    "    def middle_page(self):\n",
    "        idx = len(self.pages)//2\n",
    "        return self.pages[idx]\n",
    "\n",
    "\n",
    "class PageOrderSet:\n",
    "    def __init__(self, page_orders: Optional[List[PageOrder]] = None):\n",
    "        self.page_orders = page_orders if page_orders is not None else []\n",
    "    \n",
    "    def __repr__(self):\n",
    "        return f\"PageOrderSet of {len(self.page_orders)} PageOrders\"\n",
    "\n",
    "    def load_from_file(self, filename: str):\n",
    "        with open(filename, 'r') as file:\n",
    "            for line in file:\n",
    "                if re.search(',\\d+', line):\n",
    "                    self.page_orders.append(PageOrder(line.strip()))\n",
    "            return print(f\"PageOrderSet loaded file '{filename}' successfully. \\n {len(self.page_orders)} page orders added.\\n\")"
   ]
  },
  {
   "cell_type": "markdown",
   "metadata": {},
   "source": [
    "### Solving Part 1"
   ]
  },
  {
   "cell_type": "code",
   "execution_count": 84,
   "metadata": {},
   "outputs": [
    {
     "name": "stdout",
     "output_type": "stream",
     "text": [
      "RuleSet loaded file 'day5_input.txt' successfully. \n",
      " 1176 rules added.\n",
      "\n",
      "PageOrderSet loaded file 'day5_input.txt' successfully. \n",
      " 200 page orders added.\n",
      "\n",
      "Solution for Part 1: 6041\n"
     ]
    }
   ],
   "source": [
    "rule_set = RuleSet()\n",
    "rule_set.load_from_file(\"day5_input.txt\")\n",
    "page_order_set = PageOrderSet()\n",
    "page_order_set.load_from_file(\"day5_input.txt\")\n",
    "\n",
    "valid_middle_pages = []\n",
    "\n",
    "for page_order in page_order_set.page_orders:\n",
    "    if rule_set.eval(page_order):\n",
    "        valid_middle_pages.append(page_order.middle_page)\n",
    "\n",
    "#print(valid_middle_pages)\n",
    "print(f\"Solution for Part 1: {sum(valid_middle_pages)}\")\n"
   ]
  },
  {
   "cell_type": "markdown",
   "metadata": {},
   "source": [
    "### Solving Part 2"
   ]
  },
  {
   "cell_type": "code",
   "execution_count": null,
   "metadata": {},
   "outputs": [],
   "source": []
  }
 ],
 "metadata": {
  "kernelspec": {
   "display_name": "Python 3",
   "language": "python",
   "name": "python3"
  },
  "language_info": {
   "codemirror_mode": {
    "name": "ipython",
    "version": 3
   },
   "file_extension": ".py",
   "mimetype": "text/x-python",
   "name": "python",
   "nbconvert_exporter": "python",
   "pygments_lexer": "ipython3",
   "version": "3.10.13"
  }
 },
 "nbformat": 4,
 "nbformat_minor": 2
}
