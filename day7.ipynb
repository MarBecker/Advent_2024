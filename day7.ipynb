{
 "cells": [
  {
   "cell_type": "code",
   "execution_count": 28,
   "id": "f70aa746",
   "metadata": {},
   "outputs": [],
   "source": [
    "import itertools\n",
    "\n",
    "class Calibration:\n",
    "    OPERATORS = [\"+\", \"*\"]\n",
    "\n",
    "    def __init__(self, test_value: int, numbers: list[int]):\n",
    "        self.test_value = test_value\n",
    "        self.numbers = numbers\n",
    "        self.solvable = False\n",
    "        self.solutions =  []\n",
    "\n",
    "    def __repr__(self):\n",
    "        return f\"Calibration Instance; Test Value: {self.test_value}, Numbers: {self.numbers}\"\n",
    "    \n",
    "    @property\n",
    "    def num_operators(self):\n",
    "        return len(self.numbers) - 1\n",
    "    \n",
    "    def _add(self, a, b):\n",
    "        return a + b\n",
    "    \n",
    "    def _mul(self, a, b):\n",
    "        return a * b\n",
    "    \n",
    "    def eval(self, all_solutions=False):\n",
    "        functions_map = {\"+\": self._add,\n",
    "                         \"*\": self._mul}\n",
    "        \n",
    "        for operator_combo in itertools.product(self.OPERATORS, repeat=self.num_operators):\n",
    "            result = self.numbers[0]\n",
    "            for i in range(self.num_operators):\n",
    "                func = functions_map[operator_combo[i]]\n",
    "                result = func(result, self.numbers[i+1])\n",
    "            \n",
    "            if result == self.test_value:\n",
    "                self.solvable = True\n",
    "                self.solutions.append(operator_combo)\n",
    "                if not all_solutions:\n",
    "                    return f\"First solution found was {operator_combo} in step {i}, finished here\"\n",
    "        \n",
    "        return f\"Processed a total of {i+1} operator combos. Found {len(self.solutions)} solutions\"\n",
    "\n",
    "def load_calibrations(filename):\n",
    "    calibrations = []\n",
    "    with open(filename, \"r\") as f:\n",
    "        for line in f:\n",
    "            line = line.strip()\n",
    "            line = line.split(\": \")\n",
    "            test_value = int(line[0])\n",
    "            numbers = [int(elem) for elem in line[1].split(\" \")]\n",
    "            calibrations.append(Calibration(test_value, numbers))\n",
    "    return calibrations"
   ]
  },
  {
   "cell_type": "markdown",
   "id": "33c49b17",
   "metadata": {},
   "source": [
    "### Solving Part 1"
   ]
  },
  {
   "cell_type": "code",
   "execution_count": 30,
   "id": "217646a4",
   "metadata": {},
   "outputs": [
    {
     "name": "stdout",
     "output_type": "stream",
     "text": [
      "8401132154762\n"
     ]
    }
   ],
   "source": [
    "cals = load_calibrations(\"day7_input.txt\")\n",
    "solution = 0\n",
    "for cal in cals:\n",
    "    cal.eval()\n",
    "    if cal.solvable:\n",
    "        solution += cal.test_value\n",
    "\n",
    "print(solution)"
   ]
  }
 ],
 "metadata": {
  "kernelspec": {
   "display_name": "Python 3",
   "language": "python",
   "name": "python3"
  },
  "language_info": {
   "codemirror_mode": {
    "name": "ipython",
    "version": 3
   },
   "file_extension": ".py",
   "mimetype": "text/x-python",
   "name": "python",
   "nbconvert_exporter": "python",
   "pygments_lexer": "ipython3",
   "version": "3.10.13"
  }
 },
 "nbformat": 4,
 "nbformat_minor": 5
}
