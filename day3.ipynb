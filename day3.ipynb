{
 "cells": [
  {
   "cell_type": "code",
   "execution_count": null,
   "metadata": {},
   "outputs": [],
   "source": [
    "import re\n",
    "import timeit"
   ]
  },
  {
   "cell_type": "code",
   "execution_count": null,
   "metadata": {},
   "outputs": [],
   "source": [
    "# Definitions\n",
    "\n",
    "# For Part 1\n",
    "def input_to_string(input_file):\n",
    "    with open(input_file) as f:\n",
    "        s = \"\"\n",
    "        for line in f:\n",
    "            s += line.strip()\n",
    "    return s\n",
    "\n",
    "def eval_mul(mul):\n",
    "    x = re.findall(\"\\d+\", mul)\n",
    "    return int(x[0]) * int(x[1])\n",
    "\n",
    "def part1(input_file):\n",
    "    s = input_to_string(input_file)\n",
    "    muls = re.findall(\"mul\\(\\d{1,3},\\d{1,3}\\)\", s)\n",
    "    return sum([eval_mul(x) for x in muls])\n",
    "\n",
    "\n",
    "\n",
    "# For Part 2\n",
    "def eval_chain(chain):\n",
    "    \n",
    "    n = 0\n",
    "    state = \"do\"\n",
    "\n",
    "    for elem in chain:\n",
    "        if elem == \"don't()\":\n",
    "            state = \"dont\"\n",
    "            continue\n",
    "        elif elem == \"do()\":\n",
    "            state = \"do\"\n",
    "            continue\n",
    "\n",
    "        if state == \"do\" and elem[:3] == \"mul\":\n",
    "            n += eval_mul(elem)\n",
    "    \n",
    "    return n\n",
    "\n",
    "def input_to_chain(input_file):\n",
    "    regex = \"mul\\(\\d{1,3},\\d{1,3}\\)|don't\\(\\)|do\\(\\)\"\n",
    "    with open(input_file) as f:\n",
    "        s = \"\"\n",
    "        for line in f:\n",
    "            line = line.strip()\n",
    "            s += line\n",
    "    \n",
    "    return re.findall(regex, s)\n",
    "\n",
    "def part2(input_file):\n",
    "    chain = input_to_chain(input_file)\n",
    "    return eval_chain(chain)"
   ]
  },
  {
   "cell_type": "markdown",
   "metadata": {},
   "source": [
    "## Part 1"
   ]
  },
  {
   "cell_type": "code",
   "execution_count": 9,
   "metadata": {},
   "outputs": [
    {
     "data": {
      "text/plain": [
       "175615763"
      ]
     },
     "execution_count": 9,
     "metadata": {},
     "output_type": "execute_result"
    }
   ],
   "source": [
    "part1(\"day3_1_input.txt\")"
   ]
  },
  {
   "cell_type": "code",
   "execution_count": 6,
   "metadata": {},
   "outputs": [
    {
     "name": "stdout",
     "output_type": "stream",
     "text": [
      "541 µs ± 4.35 µs per loop (mean ± std. dev. of 7 runs, 1,000 loops each)\n"
     ]
    }
   ],
   "source": [
    "%timeit part1(\"day3_1_input.txt\")"
   ]
  },
  {
   "cell_type": "markdown",
   "metadata": {},
   "source": [
    "## Part 2"
   ]
  },
  {
   "cell_type": "code",
   "execution_count": 30,
   "metadata": {},
   "outputs": [],
   "source": [
    "example = \"xmul(2,4)&mul[3,7]!^don't()_mul(5,5)+mul(32,64](mul(11,8)undo()?mul(8,5))\"\n",
    "ex_result = 48"
   ]
  },
  {
   "cell_type": "code",
   "execution_count": 10,
   "metadata": {},
   "outputs": [
    {
     "data": {
      "text/plain": [
       "74361272"
      ]
     },
     "execution_count": 10,
     "metadata": {},
     "output_type": "execute_result"
    }
   ],
   "source": [
    "part2(\"day3_1_input.txt\")"
   ]
  },
  {
   "cell_type": "code",
   "execution_count": null,
   "metadata": {},
   "outputs": [
    {
     "name": "stdout",
     "output_type": "stream",
     "text": [
      "387 µs ± 1.77 µs per loop (mean ± std. dev. of 7 runs, 1,000 loops each)\n"
     ]
    }
   ],
   "source": [
    "%timeit part2(\"day3_1_input.txt\")"
   ]
  }
 ],
 "metadata": {
  "kernelspec": {
   "display_name": "Python 3",
   "language": "python",
   "name": "python3"
  },
  "language_info": {
   "codemirror_mode": {
    "name": "ipython",
    "version": 3
   },
   "file_extension": ".py",
   "mimetype": "text/x-python",
   "name": "python",
   "nbconvert_exporter": "python",
   "pygments_lexer": "ipython3",
   "version": "3.10.13"
  }
 },
 "nbformat": 4,
 "nbformat_minor": 2
}
