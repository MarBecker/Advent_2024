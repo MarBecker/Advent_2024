{
 "cells": [
  {
   "cell_type": "markdown",
   "metadata": {},
   "source": [
    "How things should be processed: <br>\n",
    "- load file and turn into a matrix\n",
    "- walk through the matrix point by point\n",
    "- based on the current point check which directions make sense to check\n",
    "- check all reasonable of the 8 possible directions\n",
    "- count occurences of the target word"
   ]
  },
  {
   "cell_type": "code",
   "execution_count": null,
   "metadata": {},
   "outputs": [],
   "source": [
    "import timeit"
   ]
  },
  {
   "cell_type": "code",
   "execution_count": 45,
   "metadata": {},
   "outputs": [],
   "source": [
    "def input_to_matrix(txt):\n",
    "    mat = []\n",
    "    with open(txt, \"r\") as f:\n",
    "        for line in f:\n",
    "            line = line.strip()\n",
    "            mat.append(list(line))\n",
    "    return mat\n",
    "\n",
    "def word_east(row, col, length):\n",
    "    pass\n",
    "\n",
    "\n",
    "class letter_matrix:\n",
    "    def __init__(self, in_file, target):\n",
    "        self.mat = input_to_matrix(in_file)\n",
    "        self.n_rows = len(self.mat)\n",
    "        self.n_cols = len(self.mat[0])\n",
    "        self.target = target\n",
    "\n",
    "    def letter_at(self, row, col):\n",
    "        return self.mat[row][col]\n",
    "    \n",
    "    def word_east(self, row, col):\n",
    "        if col + len(self.target) <= self.n_cols:\n",
    "            word = self.mat[row][col:col + len(self.target)]\n",
    "            #print(word)\n",
    "            if \"\".join(word) == self.target:\n",
    "                #print(f\"Found 'east': {word}\")\n",
    "                return True\n",
    "            else:\n",
    "                return False\n",
    "            \n",
    "    def word_west(self, row, col):\n",
    "        if col >= len(self.target) - 1:\n",
    "            word = self.mat[row][col + 1 - len(self.target):col + 1]\n",
    "            #print(word)\n",
    "            if \"\".join(word[::-1]) == self.target:\n",
    "                #print(f\"Found 'west': {word}\")\n",
    "                return True\n",
    "            else:\n",
    "                return False\n",
    "    \n",
    "    def word_north(self, row, col):\n",
    "        if row >= len(self.target) -1:\n",
    "            word = \"\"\n",
    "            for i in range(len(self.target)):\n",
    "                word += self.mat[row - i][col]\n",
    "            #print(word)\n",
    "            if word == self.target:\n",
    "                #print(f\"Found 'north': {word}\")\n",
    "                return True\n",
    "            else:\n",
    "                return False\n",
    "    \n",
    "    def word_south(self, row, col):\n",
    "        if row + len(self.target) <= self.n_rows:\n",
    "            word = \"\"\n",
    "            for i in range(len(self.target)):\n",
    "                word += self.mat[row + i][col]\n",
    "            #print(word)\n",
    "            if word == self.target:\n",
    "                #print(f\"Found 'south': {word}\")\n",
    "                return True\n",
    "            else:\n",
    "                return False\n",
    "            \n",
    "    def word_north_east(self, row, col):\n",
    "        if row >= len(self.target) -1 and col + len(self.target) <= self.n_cols:\n",
    "            word = \"\"\n",
    "            for i in range(len(self.target)):\n",
    "                word += self.mat[row - i][col + i]\n",
    "            #print(word)\n",
    "            if word == self.target:\n",
    "                #print(f\"Found 'north_east': {word}\")\n",
    "                return True\n",
    "            else:\n",
    "                return False\n",
    "    \n",
    "    def word_south_east(self, row, col):\n",
    "        if row + len(self.target) <= self.n_rows and col + len(self.target) <= self.n_cols:\n",
    "            word = \"\"\n",
    "            for i in range(len(self.target)):\n",
    "                word += self.mat[row + i][col  + i]\n",
    "            if word == self.target:\n",
    "                #print(f\"Found 'south_east': {word}\")\n",
    "                return True\n",
    "            else:\n",
    "                return False\n",
    "    \n",
    "    def word_south_west(self, row, col):\n",
    "        if row + len(self.target) <= self.n_rows and col >= len(self.target) -1:\n",
    "            word = \"\"\n",
    "            for i in range(len(self.target)):\n",
    "                word += self.mat[row + i][col - i]\n",
    "            if word == self.target:\n",
    "                #print(f\"Found 'south_west': {word}\")\n",
    "                return True\n",
    "            else:\n",
    "                return False\n",
    "    \n",
    "    def word_north_west(self, row, col):\n",
    "        if row >= len(self.target) -1 and col >= len(self.target) -1:\n",
    "            word = \"\"\n",
    "            for i in range(len(self.target)):\n",
    "                word += self.mat[row - i][col - i]\n",
    "            if word == self.target:\n",
    "                #print(f\"Found 'north_west': {word}\")\n",
    "                return True\n",
    "            else:\n",
    "                return False\n",
    "    \n",
    "    def count_matches(self):\n",
    "        count = 0\n",
    "        for row in range(self.n_rows):\n",
    "            for col in range(self.n_cols):\n",
    "                if self.mat[row][col] == self.target[0]:\n",
    "                    #print(f\"Found the starting letter at position {row},{col}\")\n",
    "                    count += 1 if self.word_east(row, col) else 0\n",
    "                    count += 1 if self.word_south_east(row, col) else 0\n",
    "                    count += 1 if self.word_south(row, col) else 0\n",
    "                    count += 1 if self.word_south_west(row, col) else 0\n",
    "                    count += 1 if self.word_west(row, col) else 0\n",
    "                    count += 1 if self.word_north_west(row, col) else 0\n",
    "                    count += 1 if self.word_north(row, col) else 0\n",
    "                    count += 1 if self.word_north_east(row, col) else 0\n",
    "                    #print(f\"Total counts now: {count}\")\n",
    "        return count\n",
    "    \n",
    "    def diagonal_down(self, row, col):\n",
    "        wing_length = int((len(self.target) - 1) / 2)\n",
    "        word = \"\"\n",
    "        for i in range(-wing_length,wing_length+1):\n",
    "            word += self.mat[row + i][col + i]\n",
    "        if word == self.target or word == self.target[::-1]:\n",
    "            return True\n",
    "        else:\n",
    "            return False\n",
    "    \n",
    "    def diagonal_up(self, row, col):\n",
    "        wing_length = int((len(self.target) - 1) / 2)\n",
    "        word = \"\"\n",
    "        for i in range(-wing_length,wing_length+1):\n",
    "            word += self.mat[row + i][col - i]\n",
    "        if word == self.target or word == self.target[::-1]:\n",
    "            return True\n",
    "        else:\n",
    "            return False\n",
    "\n",
    "    def cross_in_range(self, row, col):\n",
    "        wing_length = int((len(self.target) - 1) / 2)\n",
    "        if row - wing_length >= 0 and row + wing_length <= self.n_rows - 1:\n",
    "            if col - wing_length >= 0 and col + wing_length <= self.n_cols - 1:\n",
    "                return True\n",
    "        else:\n",
    "            return False\n",
    "\n",
    "    def count_crosses(self):\n",
    "        count = 0\n",
    "        center_letter = self.target[len(self.target)//2]\n",
    "        for row in range(self.n_rows):\n",
    "            for col in range(self.n_cols):\n",
    "                if self.mat[row][col] == center_letter and self.cross_in_range(row, col):\n",
    "                    if self.diagonal_down(row, col) and self.diagonal_up(row, col):\n",
    "                        #print(f\"Found valid cross at ({row},{col})\")\n",
    "                        count += 1\n",
    "        return count"
   ]
  },
  {
   "cell_type": "markdown",
   "metadata": {},
   "source": [
    "### Checking my Example"
   ]
  },
  {
   "cell_type": "code",
   "execution_count": 43,
   "metadata": {},
   "outputs": [
    {
     "data": {
      "text/plain": [
       "9"
      ]
     },
     "execution_count": 43,
     "metadata": {},
     "output_type": "execute_result"
    }
   ],
   "source": [
    "matrix = letter_matrix(\"day4_example.txt\", \"MAS\")\n",
    "#print(matrix.mat)\n",
    "#print(matrix.letter_at(9,4))\n",
    "#print(matrix.word_north_east(2,4))\n",
    "matrix.count_crosses()"
   ]
  },
  {
   "cell_type": "markdown",
   "metadata": {},
   "source": [
    "### Part 1"
   ]
  },
  {
   "cell_type": "code",
   "execution_count": 55,
   "metadata": {},
   "outputs": [
    {
     "name": "stdout",
     "output_type": "stream",
     "text": [
      "30.7 ms ± 625 µs per loop (mean ± std. dev. of 7 runs, 10 loops each)\n",
      "Part 1 Solution: 2573\n"
     ]
    }
   ],
   "source": [
    "# Load puzzle file\n",
    "matrix_input = letter_matrix(\"day4_input.txt\", \"XMAS\")\n",
    "%timeit matrix_input.count_matches()\n",
    "print(f\"Part 1 Solution: {matrix_input.count_matches()}\")"
   ]
  },
  {
   "cell_type": "markdown",
   "metadata": {},
   "source": [
    "### Part 2"
   ]
  },
  {
   "cell_type": "code",
   "execution_count": 56,
   "metadata": {},
   "outputs": [
    {
     "name": "stdout",
     "output_type": "stream",
     "text": [
      "10.6 ms ± 56.5 µs per loop (mean ± std. dev. of 7 runs, 100 loops each)\n",
      "Part 2 Solution: 1850\n"
     ]
    }
   ],
   "source": [
    "# Update the target\n",
    "matrix_input.target = \"MAS\"\n",
    "%timeit matrix_input.count_crosses()\n",
    "print(f\"Part 2 Solution: {matrix_input.count_crosses()}\")"
   ]
  },
  {
   "cell_type": "code",
   "execution_count": null,
   "metadata": {},
   "outputs": [],
   "source": []
  }
 ],
 "metadata": {
  "kernelspec": {
   "display_name": "Python 3",
   "language": "python",
   "name": "python3"
  },
  "language_info": {
   "codemirror_mode": {
    "name": "ipython",
    "version": 3
   },
   "file_extension": ".py",
   "mimetype": "text/x-python",
   "name": "python",
   "nbconvert_exporter": "python",
   "pygments_lexer": "ipython3",
   "version": "3.10.5"
  }
 },
 "nbformat": 4,
 "nbformat_minor": 2
}
